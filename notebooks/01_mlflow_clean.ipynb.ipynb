{
 "cells": [
  {
   "cell_type": "code",
   "execution_count": 1,
   "id": "fdf91896-77a1-4d6b-a080-c57ff022b1ec",
   "metadata": {},
   "outputs": [
    {
     "name": "stderr",
     "output_type": "stream",
     "text": [
      "2025/09/21 10:27:06 INFO mlflow.tracking.fluent: Experiment with name 'credit_scoring' does not exist. Creating a new experiment.\n"
     ]
    },
    {
     "name": "stdout",
     "output_type": "stream",
     "text": [
      "MLflow configuré\n",
      "Tracking URI: file:///C:/Users/amine/Desktop/projet_openclassrooms/projet_scoring_credit/notebooks/mlruns\n"
     ]
    }
   ],
   "source": [
    "# Cellule 1 : Configuration MLflow simple\n",
    "import mlflow\n",
    "import pandas as pd\n",
    "import numpy as np\n",
    "import os\n",
    "\n",
    "# Configuration par défaut - MLflow va créer son dossier automatiquement\n",
    "mlflow.set_experiment(\"credit_scoring\")\n",
    "\n",
    "print(\"MLflow configuré\")\n",
    "print(f\"Tracking URI: {mlflow.get_tracking_uri()}\")"
   ]
  },
  {
   "cell_type": "code",
   "execution_count": 2,
   "id": "5dcda0e8-3e5a-49da-87e0-84ac6e54e4a4",
   "metadata": {},
   "outputs": [
    {
     "name": "stdout",
     "output_type": "stream",
     "text": [
      "Run de test créé avec succès\n"
     ]
    }
   ],
   "source": [
    "# Cellule 2 : Premier run de test\n",
    "with mlflow.start_run(run_name=\"test_initial\"):\n",
    "    # Paramètres\n",
    "    mlflow.log_param(\"version\", \"1.0\")\n",
    "    mlflow.log_param(\"test_type\", \"initial_setup\")\n",
    "    \n",
    "    # Métriques\n",
    "    mlflow.log_metric(\"accuracy\", 0.90)\n",
    "    mlflow.log_metric(\"precision\", 0.85)\n",
    "    \n",
    "    print(\"Run de test créé avec succès\")"
   ]
  },
  {
   "cell_type": "code",
   "execution_count": 3,
   "id": "7005d089-ea9d-46d8-9a92-bb483ec0c642",
   "metadata": {
    "scrolled": true
   },
   "outputs": [
    {
     "name": "stdout",
     "output_type": "stream",
     "text": [
      "Expériences disponibles :\n",
      "- credit_scoring (ID: 895067756493420617)\n",
      "- Default (ID: 0)\n",
      "Nouveau run créé\n",
      "\n",
      "Nombre de runs trouvés : 2\n"
     ]
    }
   ],
   "source": [
    "# Cellule 3 : Vérification et nouveau run\n",
    "print(\"Expériences disponibles :\")\n",
    "for exp in mlflow.search_experiments():\n",
    "    print(f\"- {exp.name} (ID: {exp.experiment_id})\")\n",
    "\n",
    "# Créer un nouveau run pour être sûr\n",
    "with mlflow.start_run(run_name=\"verification_run\"):\n",
    "    mlflow.log_param(\"status\", \"verification\")\n",
    "    mlflow.log_metric(\"test\", 1.0)\n",
    "    print(\"Nouveau run créé\")\n",
    "\n",
    "# Lister les runs\n",
    "runs = mlflow.search_runs()\n",
    "print(f\"\\nNombre de runs trouvés : {len(runs)}\")"
   ]
  },
  {
   "cell_type": "code",
   "execution_count": 4,
   "id": "4547c351-e0e6-4f55-88f7-f0cdc7c7d2bb",
   "metadata": {
    "scrolled": true
   },
   "outputs": [
    {
     "name": "stdout",
     "output_type": "stream",
     "text": [
      "📊 Expériences MLflow :\n",
      "  - credit_scoring\n",
      "  - Default\n",
      "\n",
      "🏃‍♂️ Runs dans l'expérience credit_scoring : 2\n",
      "\n",
      "Détails des runs :\n",
      "  - Run: verification_run\n",
      "    Status: FINISHED\n",
      "  - Run: test_initial\n",
      "    Status: FINISHED\n",
      "    Accuracy: 0.9\n"
     ]
    }
   ],
   "source": [
    "# Affichage des expériences pour la soutenance\n",
    "import mlflow\n",
    "import pandas as pd\n",
    "\n",
    "# Lister toutes les expériences\n",
    "experiments = mlflow.search_experiments()\n",
    "print(\"📊 Expériences MLflow :\")\n",
    "for exp in experiments:\n",
    "    print(f\"  - {exp.name}\")\n",
    "\n",
    "# Afficher les runs de ton projet\n",
    "runs = mlflow.search_runs(experiment_ids=[\"895067756493420617\"])\n",
    "print(f\"\\n🏃‍♂️ Runs dans l'expérience credit_scoring : {len(runs)}\")\n",
    "print(\"\\nDétails des runs :\")\n",
    "for i, run in runs.iterrows():\n",
    "    print(f\"  - Run: {run['tags.mlflow.runName']}\")\n",
    "    print(f\"    Status: {run['status']}\")\n",
    "    if 'metrics.accuracy' in run and pd.notna(run['metrics.accuracy']):\n",
    "        print(f\"    Accuracy: {run['metrics.accuracy']}\")"
   ]
  },
  {
   "cell_type": "code",
   "execution_count": null,
   "id": "af629557-ff4a-4b6e-9de6-42066909a240",
   "metadata": {},
   "outputs": [],
   "source": []
  },
  {
   "cell_type": "code",
   "execution_count": null,
   "id": "252af809-f48f-43a0-9391-ca23fcc58b1d",
   "metadata": {},
   "outputs": [],
   "source": []
  },
  {
   "cell_type": "code",
   "execution_count": null,
   "id": "70d672a4-763f-48cb-affb-6c367a5c272c",
   "metadata": {},
   "outputs": [],
   "source": []
  },
  {
   "cell_type": "code",
   "execution_count": null,
   "id": "f17f456a-cf70-43fd-8e90-164ebca5aa5a",
   "metadata": {},
   "outputs": [],
   "source": []
  },
  {
   "cell_type": "code",
   "execution_count": null,
   "id": "042add10-c896-48a3-9708-3c5ad8d32a8c",
   "metadata": {},
   "outputs": [],
   "source": []
  },
  {
   "cell_type": "code",
   "execution_count": null,
   "id": "7a254c6d-4c57-47c7-a334-c47478f77231",
   "metadata": {},
   "outputs": [],
   "source": []
  },
  {
   "cell_type": "code",
   "execution_count": null,
   "id": "17593b6d-1fff-4a1a-8c53-7335c2e748ff",
   "metadata": {},
   "outputs": [],
   "source": []
  },
  {
   "cell_type": "code",
   "execution_count": null,
   "id": "5705ffe0-d0c8-44d5-b478-b206eb356d8e",
   "metadata": {},
   "outputs": [],
   "source": []
  },
  {
   "cell_type": "code",
   "execution_count": null,
   "id": "f4252af5-b860-425f-9350-76b4000ed8b6",
   "metadata": {},
   "outputs": [],
   "source": []
  },
  {
   "cell_type": "code",
   "execution_count": null,
   "id": "12ae42c4-e336-4b6b-962a-f9caf4abe076",
   "metadata": {},
   "outputs": [],
   "source": []
  },
  {
   "cell_type": "code",
   "execution_count": null,
   "id": "feaa4afb-a519-4ef4-a5b8-40fcc8776940",
   "metadata": {},
   "outputs": [],
   "source": []
  },
  {
   "cell_type": "code",
   "execution_count": null,
   "id": "e763f601-e48b-493f-a29e-6aa9dbc60c42",
   "metadata": {},
   "outputs": [],
   "source": []
  },
  {
   "cell_type": "code",
   "execution_count": null,
   "id": "145044b9-dce4-4b56-947f-017266025683",
   "metadata": {},
   "outputs": [],
   "source": []
  },
  {
   "cell_type": "code",
   "execution_count": null,
   "id": "c487ea52-e717-40ab-a7b8-c9594c51a602",
   "metadata": {},
   "outputs": [],
   "source": []
  },
  {
   "cell_type": "code",
   "execution_count": null,
   "id": "64c8dfec-5064-4c2e-949a-30646e1a9031",
   "metadata": {},
   "outputs": [],
   "source": []
  },
  {
   "cell_type": "code",
   "execution_count": null,
   "id": "a0bf0cdb-3af2-4198-ab60-6c33ecf983f0",
   "metadata": {},
   "outputs": [],
   "source": []
  },
  {
   "cell_type": "code",
   "execution_count": null,
   "id": "cb16a65e-fa12-4e67-a07c-e73afc97a38c",
   "metadata": {},
   "outputs": [],
   "source": []
  },
  {
   "cell_type": "code",
   "execution_count": null,
   "id": "ff67f126-2629-4f50-9b43-5927ff739a69",
   "metadata": {},
   "outputs": [],
   "source": []
  },
  {
   "cell_type": "code",
   "execution_count": null,
   "id": "65e36336-f649-4c2c-9391-1683187b0aac",
   "metadata": {},
   "outputs": [],
   "source": []
  },
  {
   "cell_type": "code",
   "execution_count": null,
   "id": "97d72060-dafa-492a-bba0-624269d219a6",
   "metadata": {},
   "outputs": [],
   "source": []
  },
  {
   "cell_type": "code",
   "execution_count": null,
   "id": "0bc20b50-3857-40e2-8c91-fa04f93e0ff6",
   "metadata": {},
   "outputs": [],
   "source": []
  },
  {
   "cell_type": "code",
   "execution_count": null,
   "id": "f0fcf757-90b2-4251-a5d7-05d93e55fc80",
   "metadata": {},
   "outputs": [],
   "source": []
  },
  {
   "cell_type": "code",
   "execution_count": null,
   "id": "ec3a06be-e51d-4ce9-964f-cf2aab6b1a03",
   "metadata": {},
   "outputs": [],
   "source": []
  },
  {
   "cell_type": "code",
   "execution_count": null,
   "id": "35e3b1a2-6605-49ae-9690-8095c62b26e1",
   "metadata": {},
   "outputs": [],
   "source": []
  },
  {
   "cell_type": "code",
   "execution_count": null,
   "id": "b46c57aa-5ccd-4611-b6ab-780664703709",
   "metadata": {},
   "outputs": [],
   "source": []
  },
  {
   "cell_type": "code",
   "execution_count": null,
   "id": "d94844ec-70c2-4340-9a36-a55460aac733",
   "metadata": {},
   "outputs": [],
   "source": []
  },
  {
   "cell_type": "code",
   "execution_count": null,
   "id": "af91d9ee-6738-46ea-b871-bfd1447f9eb8",
   "metadata": {},
   "outputs": [],
   "source": []
  },
  {
   "cell_type": "code",
   "execution_count": null,
   "id": "04121e42-5b13-4e19-a3f0-4391b3824b7d",
   "metadata": {},
   "outputs": [],
   "source": []
  },
  {
   "cell_type": "code",
   "execution_count": null,
   "id": "7154d8d6-fc44-4146-805b-d636c12e1370",
   "metadata": {},
   "outputs": [],
   "source": []
  },
  {
   "cell_type": "code",
   "execution_count": null,
   "id": "bc9aa0dd-5bff-42b8-b283-55f09c3b3b59",
   "metadata": {},
   "outputs": [],
   "source": []
  }
 ],
 "metadata": {
  "kernelspec": {
   "display_name": "Python [conda env:base] *",
   "language": "python",
   "name": "conda-base-py"
  },
  "language_info": {
   "codemirror_mode": {
    "name": "ipython",
    "version": 3
   },
   "file_extension": ".py",
   "mimetype": "text/x-python",
   "name": "python",
   "nbconvert_exporter": "python",
   "pygments_lexer": "ipython3",
   "version": "3.13.5"
  }
 },
 "nbformat": 4,
 "nbformat_minor": 5
}
